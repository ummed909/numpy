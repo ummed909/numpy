{
 "cells": [
  {
   "cell_type": "markdown",
   "id": "53d7d267-31eb-4b25-ad2a-9f4c1a877f7f",
   "metadata": {},
   "source": [
    "## What is numpy ?"
   ]
  },
  {
   "cell_type": "markdown",
   "id": "c6419ec2-b901-4916-aa13-9698730ec6d7",
   "metadata": {},
   "source": [
    "NumPy (numerical python) is a powerfull library for numerical computing in python, and it offers sevral advantage over python's built-in list or array for scinetific and mathematical tasks."
   ]
  },
  {
   "cell_type": "markdown",
   "id": "9e34ca9d-7d18-4670-b7a9-a26324121182",
   "metadata": {},
   "source": [
    "## Why numpy ?"
   ]
  },
  {
   "cell_type": "raw",
   "id": "36eb2010-8ac7-46bc-879e-9ff8e4af700a",
   "metadata": {},
   "source": [
    "Performance and Efficiency\n",
    "\n",
    "- Faster Computations : Numpy arrays (ndarray) are implemented in C and use contiguous memory allocation, which leads to faster operation compare to lists.\n",
    "\n",
    "- Memory efficient : Numpy array use less memory compare to python list because they are store elements of the same data type and have a more memory compact layout.\n",
    "\n",
    "Mathematical and Statistical Functions\n",
    "\n",
    "- NumPy provides a wide range of mathematical functions for operations such as trigonometric functions, logarithms, and exponential\n",
    "\n",
    "- Numpy Provide Statistical function like mean, medial, standard deviation ect.\n",
    "\n",
    "Array Manipulation and Operatino\n",
    "\n",
    "- Reshaping array : NumPy allow us to easily reshape the array, perform traspositions, and manage multidimentional array\n",
    "\n",
    "- Broadcasting : NumPy support broadcasting, which allow operatinos on array of different shapes in way that is both intuitive and efficient\n",
    "\n",
    "To Summarise, NumPy is used for the following reasons\n",
    "1. Performance and Efficiency\n",
    "2. Mathematical and Statical functions\n",
    "3. Array manipulation and operation\n",
    "4. Integratoin with other libraries\n",
    "5. Handling large datasets."
   ]
  },
  {
   "cell_type": "markdown",
   "id": "3fa45564-4313-4a9d-9c62-e443a0148c78",
   "metadata": {},
   "source": [
    "## Data types in NumPy"
   ]
  },
  {
   "cell_type": "raw",
   "id": "5970bde4-a790-4272-a9e0-7332e3f4eabf",
   "metadata": {},
   "source": [
    "NumPy provides us built-in data types to efficient work with numerical data.\n",
    "- Integer  (int8, int16, int32, int64)\n",
    "- Float     (flaot16, float32, float64)\n",
    "- Complex   (complex64, complex128)\n",
    "- Boolean\n",
    "- String\n",
    "- Object\n",
    "\n",
    "astype method is very powerful and flexible to convert datatype of an arrays"
   ]
  },
  {
   "attachments": {},
   "cell_type": "markdown",
   "id": "7bd02f4e-18f6-4914-aa02-37efcbfe0dcf",
   "metadata": {},
   "source": [
    "## Arithmetic operation on NumPy array"
   ]
  },
  {
   "cell_type": "raw",
   "id": "1bf682c0-68ae-4286-b2fe-70ccc31add62",
   "metadata": {},
   "source": [
    "Broadly, there are 3 types of basic arithmatic operation on NumPy array\n",
    "\n",
    "- Element wise operation\n",
    "- Scaler operation\n",
    "- Using built-in Functions for Arithmetic computaions"
   ]
  },
  {
   "cell_type": "markdown",
   "id": "14680d69-bf01-4fa5-8ef1-43b668bbfb1a",
   "metadata": {},
   "source": [
    "### Numpy with strings"
   ]
  },
  {
   "cell_type": "raw",
   "id": "3b621b47-fda8-41a1-9312-9db2b3a39006",
   "metadata": {},
   "source": [
    "Why we need to do string manilplation during data analysis ?\n",
    "\n",
    "1. Data cleaning\n",
    "- white space removal\n",
    "- data conistency (uniform case ect.)\n",
    "\n",
    "2. Data Transformation\n",
    "- concatination\n",
    "- replacement and substitution\n",
    "\n",
    "3. Data parsing and Extraction\n",
    "- spiliting (breaking down string into parts)\n",
    "- pattern matching : extract specific patern part from string\n",
    "\n",
    "String functions summary\n",
    "\n",
    "1. String Concatenation and Repetition:\n",
    "- numpy.char.add(): Adds two strings element-wise.\n",
    "- numpy.char.multiply(): Repeats each string element-wise a given number of times.\n",
    "\n",
    "2. Case Conversion:\n",
    "- numpy.char.capitalize(): Capitalizes the first letter of each string element-wise.\n",
    "- numpy.char.title(): Converts each string element to title case.\n",
    "- numpy.char.lower(): Converts each string element to lowercase.\n",
    "- numpy.char.upper(): Converts each string element to uppercase.\n",
    "- numpy.char.swapcase(): Swaps the case of each string element.\n",
    "\n",
    "3. String Splitting and Joining:\n",
    "- numpy.char.split(): Splits each string element in the array.\n",
    "- numpy.char.splitlines(): Splits each element at line breaks.\n",
    "- numpy.char.join(): Joins elements in an array of strings using a specified separator.\n",
    "\n",
    "4. String Searching:\n",
    "- numpy.char.find(): Returns the lowest index in each string where the substring is found.\n",
    "- numpy.char.rfind(): Returns the highest index in each string where the substring is found.\n",
    "\n",
    "5. String Modification:\n",
    "- numpy.char.strip(): Removes leading and trailing whitespaces from each string element.\n",
    "- numpy.char.lstrip(): Removes leading whitespaces from each string element.\n",
    "- numpy.char.rstrip(): Removes trailing whitespaces from each string element.\n",
    "- numpy.char.replace(): Replaces substrings in each string element.\n",
    "\n",
    "6. Character Checking:\n",
    "- numpy.char.isdigit(): Checks if each string element contains only digits.\n",
    "- numpy.char.isalpha(): Checks if each string element contains only alphabetic characters.\n",
    "- numpy.char.isnumeric(): Checks if each string element contains only numeric characters."
   ]
  }
 ],
 "metadata": {
  "kernelspec": {
   "display_name": "Python 3 (ipykernel)",
   "language": "python",
   "name": "python3"
  },
  "language_info": {
   "codemirror_mode": {
    "name": "ipython",
    "version": 3
   },
   "file_extension": ".py",
   "mimetype": "text/x-python",
   "name": "python",
   "nbconvert_exporter": "python",
   "pygments_lexer": "ipython3",
   "version": "3.12.4"
  }
 },
 "nbformat": 4,
 "nbformat_minor": 5
}
