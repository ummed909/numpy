{
 "cells": [
  {
   "cell_type": "markdown",
   "id": "545ba1b7-5f5e-4d68-ba9b-008383ed7a62",
   "metadata": {},
   "source": [
    "## Basics Exercise"
   ]
  },
  {
   "cell_type": "code",
   "execution_count": 1,
   "id": "3e0294dc-9002-4279-aac5-842d1f5be0bd",
   "metadata": {},
   "outputs": [],
   "source": [
    "import numpy as np"
   ]
  },
  {
   "cell_type": "markdown",
   "id": "99100cfc-2045-41a0-bfa8-823d54c6b8b0",
   "metadata": {},
   "source": [
    "#### NumPy array creation"
   ]
  },
  {
   "cell_type": "code",
   "execution_count": 4,
   "id": "503e9b34-172a-4498-a0a9-926028572ef4",
   "metadata": {},
   "outputs": [
    {
     "name": "stdout",
     "output_type": "stream",
     "text": [
      "<class 'list'>\n",
      "<class 'numpy.ndarray'>\n"
     ]
    }
   ],
   "source": [
    "# create a numpy array using the python list\n",
    "list = [1,2,3,4,5]\n",
    "print(type(list))\n",
    "\n",
    "np_array = np.array(list)   # object of ndarray class\n",
    "print(type(np_array))"
   ]
  },
  {
   "cell_type": "code",
   "execution_count": 5,
   "id": "863b435c-e3d0-4f48-ad1e-92b4ff5dba2f",
   "metadata": {},
   "outputs": [
    {
     "name": "stdout",
     "output_type": "stream",
     "text": [
      "[1 1 2 2 2 0]\n"
     ]
    }
   ],
   "source": [
    "# create a random numpy array\n",
    "\n",
    "random_np_array = np.random.randint(0,3,size=6)\n",
    "# 0 is inclusive and 3 is exclusive\n",
    "print(random_np_array)"
   ]
  },
  {
   "cell_type": "code",
   "execution_count": 8,
   "id": "b78705b3-e94c-4dd2-a7dc-c02e2510e46e",
   "metadata": {},
   "outputs": [
    {
     "data": {
      "text/plain": [
       "array([0.35564572, 0.15715532, 0.76041474, 0.39209563, 0.25701629])"
      ]
     },
     "execution_count": 8,
     "metadata": {},
     "output_type": "execute_result"
    }
   ],
   "source": [
    "a1 = np.random.rand(5)\n",
    "a1"
   ]
  },
  {
   "cell_type": "code",
   "execution_count": 12,
   "id": "3c1afdcf-582d-4564-a80a-cc8e04c1430e",
   "metadata": {},
   "outputs": [
    {
     "name": "stdout",
     "output_type": "stream",
     "text": [
      "[0.35564572 0.15715532 0.76041474 0.39209563 0.25701629]\n",
      "[1 1 1 1]\n",
      "[0. 0. 0. 0.]\n"
     ]
    }
   ],
   "source": [
    "# creating an empty array and array of zeros and ones\n",
    "\n",
    "empty_array = np.empty(5)\n",
    "print(empty_array)   # the values it print are the values which are already present in the allocated memory\n",
    "\n",
    "one_array = np.ones(4, dtype='int')\n",
    "print(one_array)\n",
    "\n",
    "zero_array = np.zeros(4)\n",
    "print(zero_array)"
   ]
  },
  {
   "cell_type": "code",
   "execution_count": 16,
   "id": "76688ea1-0099-47f4-a19d-cbd4f4aeadae",
   "metadata": {},
   "outputs": [
    {
     "name": "stdout",
     "output_type": "stream",
     "text": [
      "[0 1 2 3 4 5 6 7 8 9]\n",
      "[2. 4. 6. 8.]\n"
     ]
    }
   ],
   "source": [
    "# numpy array using arrange function\n",
    "# arrange(start=0, end, step=1, dtype)\n",
    "range_array = np.arange(10)\n",
    "print(range_array)\n",
    "\n",
    "range_array_2 = np.arange(2,10,2,dtype='float')\n",
    "print(range_array_2)"
   ]
  },
  {
   "cell_type": "markdown",
   "id": "98714f4e-6be8-4792-b8dc-ad1dfee0bfbc",
   "metadata": {},
   "source": [
    "#### Integer, Float, Boolean, Complex data type in array"
   ]
  },
  {
   "cell_type": "code",
   "execution_count": 17,
   "id": "838c3ad7-52d6-42c9-96b7-a67bc9d24ce4",
   "metadata": {},
   "outputs": [
    {
     "name": "stdout",
     "output_type": "stream",
     "text": [
      "[200 200 300]\n"
     ]
    }
   ],
   "source": [
    "# array_1 = np.array([200,200,300] dtype=np.int8)   // this will through array \n",
    "array_1  = np.array([200,200,300], dtype=np.int16)\n",
    "print(array_1)"
   ]
  },
  {
   "cell_type": "code",
   "execution_count": 19,
   "id": "781bbc33-0b0d-46eb-a8e1-a4f7b380f94f",
   "metadata": {},
   "outputs": [
    {
     "name": "stdout",
     "output_type": "stream",
     "text": [
      "[1.2 3.2 4.5]\n"
     ]
    }
   ],
   "source": [
    "array_2 = np.array([1.2,3.2,4.5],dtype=np.float16)\n",
    "print(array_2)"
   ]
  },
  {
   "cell_type": "code",
   "execution_count": 21,
   "id": "712807dd-4610-4faf-8e62-e7da05ea2129",
   "metadata": {},
   "outputs": [
    {
     "name": "stdout",
     "output_type": "stream",
     "text": [
      "[ True False  True]\n",
      "[False False  True]\n",
      "[ True False]\n"
     ]
    }
   ],
   "source": [
    "#### Boolean data type in numpy\n",
    "arr_bool = np.array([True, False, True], dtype=np.bool_)\n",
    "print(arr_bool)\n",
    "\n",
    "arr_bool_1 = np.array([0,0,1], dtype=np.bool_)\n",
    "print(arr_bool_1)\n",
    "\n",
    "arr_bool_2 = np.array([True, False])\n",
    "print(arr_bool_2)"
   ]
  },
  {
   "cell_type": "markdown",
   "id": "ef38fb5c-3601-464a-bc32-9dd6164cb222",
   "metadata": {},
   "source": [
    "#### string and object dataype in np array"
   ]
  },
  {
   "cell_type": "code",
   "execution_count": 22,
   "id": "ab203adb-ddd3-4c9e-afbb-e8b726ff466e",
   "metadata": {},
   "outputs": [
    {
     "name": "stdout",
     "output_type": "stream",
     "text": [
      "['ummed' 'choudhary']\n"
     ]
    }
   ],
   "source": [
    "arr_str = np.array(['ummed','choudhary'],dtype='str')\n",
    "print(arr_str)"
   ]
  },
  {
   "cell_type": "code",
   "execution_count": 29,
   "id": "2d4b0c53-c0b9-4859-b0ea-936ef79090a9",
   "metadata": {},
   "outputs": [
    {
     "name": "stdout",
     "output_type": "stream",
     "text": [
      "object\n"
     ]
    }
   ],
   "source": [
    "arr_object = np.array([1,'1',1.1],dtype=object)\n",
    "print(arr_object.dtype)"
   ]
  },
  {
   "cell_type": "markdown",
   "id": "52464234-c32a-4f58-814f-d5f522918160",
   "metadata": {},
   "source": [
    "#### Basic array attribute"
   ]
  },
  {
   "cell_type": "code",
   "execution_count": 31,
   "id": "b512c65a-3ae3-4089-86cd-62f46af993ee",
   "metadata": {},
   "outputs": [
    {
     "name": "stdout",
     "output_type": "stream",
     "text": [
      "3\n",
      "int8\n",
      "1\n"
     ]
    }
   ],
   "source": [
    "a1 = np.array([1,2,3],dtype='int8')\n",
    "print(a1.size)\n",
    "print(a1.dtype)\n",
    "print(a1.itemsize)   # returns the size (in bytes) of each elements in the array"
   ]
  },
  {
   "cell_type": "markdown",
   "id": "c6c344e7-647e-4401-ad95-e55eb69112ff",
   "metadata": {},
   "source": [
    "#### Array Indexing in numpy"
   ]
  },
  {
   "cell_type": "code",
   "execution_count": 41,
   "id": "62ac3a80-7869-476c-b759-b536bb8c7045",
   "metadata": {},
   "outputs": [
    {
     "name": "stdout",
     "output_type": "stream",
     "text": [
      "[0 1 2 3 4 5 6 7 8 9]\n",
      "[False False False False False False  True  True  True  True]\n",
      "[6 7 8 9]\n",
      "[0 2 4 6 8]\n",
      "[ 0 -1  2 -1  4 -1  6 -1  8 -1]\n"
     ]
    }
   ],
   "source": [
    "# Boolean Indexing : values are faetching or filtering based on values or some cinditions rather then the index value\n",
    "\n",
    "arr_b = np.arange(10)\n",
    "print(arr_b)\n",
    "\n",
    "mask = arr_b > 5\n",
    "print(mask)\n",
    "\n",
    "filtered_array = arr_b[mask]\n",
    "print(filtered_array)\n",
    "\n",
    "arr_even = arr_b[arr_b%2 == 0]\n",
    "print(arr_even)\n",
    "\n",
    "arr_b[arr_b%2 == 1] = -1     # chnage the specific values of an array\n",
    "print(arr_b)"
   ]
  },
  {
   "cell_type": "markdown",
   "id": "3aa4518a-6b25-4af9-be99-749454d50028",
   "metadata": {},
   "source": [
    "#### N-dimentional array"
   ]
  },
  {
   "cell_type": "code",
   "execution_count": 46,
   "id": "2a0aff9a-e09e-41b9-a02e-062caf84d7aa",
   "metadata": {},
   "outputs": [
    {
     "name": "stdout",
     "output_type": "stream",
     "text": [
      "27\n",
      "(3, 3, 3)\n",
      "int32\n"
     ]
    }
   ],
   "source": [
    "# take an example of an image of 3*3 pixel\n",
    "# each pixel is an array of three number which represent the color of pixel\n",
    "\n",
    "image = np.array([[[225,0,0],[0,225,0],[0,0,225]],\n",
    "         [[225,225,0],[0,225,225],[225,0,225]],\n",
    "         [[0,0,0],[225,225,225],[123,222,123]]])\n",
    "\n",
    "# here each pixel represent different color\n",
    "\n",
    "print(image.size)\n",
    "print(image.shape)\n",
    "print(image.dtype)"
   ]
  },
  {
   "cell_type": "code",
   "execution_count": 64,
   "id": "41fc0e1c-65ab-43b2-baac-3bc8c5c2d80d",
   "metadata": {},
   "outputs": [
    {
     "name": "stdout",
     "output_type": "stream",
     "text": [
      "[[0 0 0]\n",
      " [0 0 0]\n",
      " [0 0 0]]\n",
      "[[[1 1 1]\n",
      "  [1 1 1]]\n",
      "\n",
      " [[1 1 1]\n",
      "  [1 1 1]]\n",
      "\n",
      " [[1 1 1]\n",
      "  [1 1 1]]]\n"
     ]
    }
   ],
   "source": [
    "# generate n-d array\n",
    "arr = np.zeros((3,3),dtype='int')\n",
    "print(arr)\n",
    "arr2 = np.ones((3,2,3),dtype=int)\n",
    "print(arr2)"
   ]
  },
  {
   "cell_type": "code",
   "execution_count": 67,
   "id": "676a3667-c5f9-4cb3-a24e-52e8ead3c620",
   "metadata": {},
   "outputs": [
    {
     "name": "stdout",
     "output_type": "stream",
     "text": [
      "[[ 0  1  2  3]\n",
      " [ 4  5  6  7]\n",
      " [ 8  9 10 11]]\n"
     ]
    }
   ],
   "source": [
    "# generate and re-shape the array\n",
    "ary_1 = np.arange(12)\n",
    "ary_1 = ary_1.reshape(3,4)\n",
    "print(ary_1)"
   ]
  },
  {
   "cell_type": "code",
   "execution_count": 69,
   "id": "2955e99c-b682-4e84-8463-b531764ce471",
   "metadata": {},
   "outputs": [
    {
     "data": {
      "text/plain": [
       "array([[[ 0,  1,  2,  3],\n",
       "        [ 4,  5,  6,  7],\n",
       "        [ 8,  9, 10, 11]],\n",
       "\n",
       "       [[12, 13, 14, 15],\n",
       "        [16, 17, 18, 19],\n",
       "        [20, 21, 22, 23]]])"
      ]
     },
     "execution_count": 69,
     "metadata": {},
     "output_type": "execute_result"
    }
   ],
   "source": [
    "# let's create an array of shape = (2,3,4)\n",
    "ary_2 = np.arange(24)\n",
    "ary_2 = ary_2.reshape(2,3,4)\n",
    "ary_2"
   ]
  },
  {
   "cell_type": "code",
   "execution_count": 72,
   "id": "3482f6c4-0edf-4702-b6e3-6db28b9a9659",
   "metadata": {},
   "outputs": [
    {
     "data": {
      "text/plain": [
       "array([[[ 5,  6,  7],\n",
       "        [ 9, 10, 11]],\n",
       "\n",
       "       [[17, 18, 19],\n",
       "        [21, 22, 23]]])"
      ]
     },
     "execution_count": 72,
     "metadata": {},
     "output_type": "execute_result"
    }
   ],
   "source": [
    "# indexing the n-d array\n",
    "\n",
    "# 5,6,7\n",
    "# 9,10,11\n",
    "# 17,18,19\n",
    "# 21,22,23\n",
    "sub_array = ary_2[:,1:,1:]\n",
    "sub_array"
   ]
  },
  {
   "cell_type": "markdown",
   "id": "61b8799d-bfa6-4677-ba92-b774da8d59a0",
   "metadata": {},
   "source": [
    "#### Arithmetic operation on NumPy arrays"
   ]
  },
  {
   "cell_type": "code",
   "execution_count": 3,
   "id": "d9844af9-a16a-4cd7-bf91-a6a8446a4995",
   "metadata": {},
   "outputs": [
    {
     "name": "stdout",
     "output_type": "stream",
     "text": [
      "[5 7 9]\n",
      "[4 2 2]\n"
     ]
    }
   ],
   "source": [
    "# element-wise arithmetic operation\n",
    "\n",
    "arr_1 = np.array([1,2,3])\n",
    "arr_2 = np.array([4,5,6])\n",
    "\n",
    "print(arr_1+arr_2)\n",
    "print(arr_2 // arr_1)"
   ]
  },
  {
   "cell_type": "code",
   "execution_count": 4,
   "id": "204d7623-9f95-4c41-833c-b453a748de88",
   "metadata": {},
   "outputs": [
    {
     "name": "stdout",
     "output_type": "stream",
     "text": [
      "[11 12 13]\n",
      "[40 50 60]\n"
     ]
    }
   ],
   "source": [
    "# scaler operation envolve performing arithmetic operation on array using sinle value\n",
    "\n",
    "print(arr_1 + 10)\n",
    "print(arr_2 * 10)"
   ]
  },
  {
   "cell_type": "code",
   "execution_count": 8,
   "id": "d6c9645e-1e41-4f1d-954f-d74cca6617f2",
   "metadata": {},
   "outputs": [
    {
     "name": "stdout",
     "output_type": "stream",
     "text": [
      "10\n",
      "24\n",
      "[ 1  3  6 10]\n",
      "[ 1  2  6 24]\n",
      "[2 4 6 8]\n",
      "[1. 1. 1. 1.]\n"
     ]
    }
   ],
   "source": [
    "# built-in function for arithmetic operation\n",
    "\n",
    "arr_1 = np.array([1,2,3,4])\n",
    "print(np.sum(arr_1))\n",
    "print(np.prod(arr_1))\n",
    "print(np.cumsum(arr_1))\n",
    "print(np.cumprod(arr_1))\n",
    "\n",
    "print(np.add(arr_1,arr_1))\n",
    "print(np.divide(arr_1,arr_1))"
   ]
  },
  {
   "cell_type": "markdown",
   "id": "e610835f-bf77-4b7c-a9e4-082c4839dfa1",
   "metadata": {},
   "source": [
    "#### comparison operator in Numpy"
   ]
  },
  {
   "cell_type": "code",
   "execution_count": 9,
   "id": "74f6f2a2-43bd-423f-bbd9-86d9e281dd9e",
   "metadata": {},
   "outputs": [
    {
     "name": "stdout",
     "output_type": "stream",
     "text": [
      "[False False  True False False]\n",
      "[False  True  True False False]\n",
      "[False  True False False False]\n",
      "[ True False  True  True  True]\n"
     ]
    }
   ],
   "source": [
    "# we can compare two arrays using <,>,<=,>=,==,!= and the result is boolean array\n",
    "\n",
    "a1 = np.array([1,3,5,2,0])\n",
    "a2 = np.array([2,3,4,6,1])\n",
    "\n",
    "print(a1>a2)\n",
    "print(a1>=a2)\n",
    "\n",
    "print(a1 == a2)\n",
    "print(a1!=a2)"
   ]
  },
  {
   "cell_type": "code",
   "execution_count": 13,
   "id": "c0dfa495-a51e-4954-87a4-84fb3a50d30d",
   "metadata": {},
   "outputs": [
    {
     "name": "stdout",
     "output_type": "stream",
     "text": [
      "[False False False  True]\n",
      "[ True  True False  True]\n",
      "[False  True  True False]\n",
      "[ True  True False False]\n"
     ]
    }
   ],
   "source": [
    " # we have logical function as well which is work on boolean array\n",
    "\n",
    "a3 = np.array([1,0,0,1],dtype='bool')\n",
    "a4 = np.array([0,1,0,1], dtype='bool')\n",
    "\n",
    "print(np.logical_and(a3,a4))\n",
    "print(np.logical_or(a3,a4))\n",
    "print(np.logical_not(a3))\n",
    "print(np.logical_xor(a3,a4))"
   ]
  },
  {
   "cell_type": "code",
   "execution_count": 42,
   "id": "a79444ad-82a0-45c5-b54f-99411af59930",
   "metadata": {},
   "outputs": [
    {
     "name": "stdout",
     "output_type": "stream",
     "text": [
      "[[ 0 12  0]\n",
      " [ 0  0  0]\n",
      " [ 0  0  0]]\n"
     ]
    }
   ],
   "source": [
    "matrix = np.array([\n",
    "    [1, 12, 15],\n",
    "    [8, 23, 4],\n",
    "    [9, 6, 17]\n",
    "])\n",
    "threshold = 10\n",
    "a = (matrix%2 == 0) & (matrix>10)\n",
    "print(a*matrix)"
   ]
  },
  {
   "cell_type": "markdown",
   "id": "3be86eea-2a6d-4f12-b6b6-136c2f6f4d80",
   "metadata": {},
   "source": [
    "#### working with string in NumPy"
   ]
  },
  {
   "cell_type": "code",
   "execution_count": 3,
   "id": "cc39528f-d942-4a01-a811-06ea01f57867",
   "metadata": {},
   "outputs": [
    {
     "name": "stdout",
     "output_type": "stream",
     "text": [
      "['helloworld' 'goodmorning']\n",
      "['Hello' 'Good']\n",
      "['hellohello' 'goodgood']\n"
     ]
    }
   ],
   "source": [
    "# arithmetic operation\n",
    "a = np.array(['hello','good'])\n",
    "b = np.array(['world','morning'])\n",
    "\n",
    "print(np.char.add(a,b))\n",
    "print(np.char.capitalize(a))\n",
    "print(np.char.multiply(a,2))"
   ]
  },
  {
   "cell_type": "code",
   "execution_count": 4,
   "id": "0ddf5d0c-a34d-4849-b99a-052a434253f1",
   "metadata": {},
   "outputs": [
    {
     "name": "stdout",
     "output_type": "stream",
     "text": [
      "['hello' 'good']\n",
      "['WORLD' 'MORNING']\n"
     ]
    }
   ],
   "source": [
    "# case conversion\n",
    "print(np.char.lower(a))\n",
    "print(np.char.upper(b))"
   ]
  },
  {
   "cell_type": "code",
   "execution_count": 5,
   "id": "214c2729-f9ff-48fc-b2af-066646922a06",
   "metadata": {},
   "outputs": [
    {
     "name": "stdout",
     "output_type": "stream",
     "text": [
      "[['hello world' 'good morning']\n",
      " ['hello namaskar' 'happy coding']]\n",
      "[[list(['hello', 'world']) list(['good', 'morning'])]\n",
      " [list(['hello', 'namaskar']) list(['happy', 'coding'])]]\n"
     ]
    }
   ],
   "source": [
    "# splitting of string\n",
    "ab = np.array([['hello world','good morning'],['hello namaskar','happy coding']])\n",
    "a_b = np.char.split(ab)   # output : array of list\n",
    "print(ab)\n",
    "print(a_b)"
   ]
  },
  {
   "cell_type": "code",
   "execution_count": 6,
   "id": "8950e382-92ad-4a84-ab93-698f61ec006d",
   "metadata": {},
   "outputs": [
    {
     "name": "stdout",
     "output_type": "stream",
     "text": [
      "[['h-e-l-l-o- -w-o-r-l-d' 'g-o-o-d- -m-o-r-n-i-n-g']\n",
      " ['h-e-l-l-o- -n-a-m-a-s-k-a-r' 'h-a-p-p-y- -c-o-d-i-n-g']]\n"
     ]
    }
   ],
   "source": [
    "print(np.char.join('-',ab))"
   ]
  },
  {
   "cell_type": "code",
   "execution_count": 12,
   "id": "01cada2d-98ad-46bc-8d4e-73ff46f92f87",
   "metadata": {},
   "outputs": [
    {
     "name": "stdout",
     "output_type": "stream",
     "text": [
      "[-1  1]\n",
      "[-1  5]\n",
      "[ 1 -1]\n"
     ]
    }
   ],
   "source": [
    "# string searching\n",
    "a = np.array(['ummed','choudhary'])\n",
    "print(np.char.find(a,'h'))\n",
    "print(np.char.rfind(a,'h'))\n",
    "print(np.char.find(a,'mm'))"
   ]
  },
  {
   "cell_type": "code",
   "execution_count": 13,
   "id": "68ad5d07-baab-4e03-bf22-0c2e70325a86",
   "metadata": {},
   "outputs": [
    {
     "name": "stdout",
     "output_type": "stream",
     "text": [
      "['ummed ' 'suki  ' 'h ' 'rohit  ']\n",
      "['   ummed' ' suki' ' h' 'rohit']\n",
      "['ummed' 'suki' 'h' 'rohit']\n"
     ]
    }
   ],
   "source": [
    "# string modification\n",
    "# removing white space\n",
    "\n",
    "a = np.array(['   ummed ',' suki  ',' h ','rohit  '])\n",
    "print(np.char.lstrip(a)) # remove leading white space\n",
    "print(np.char.rstrip(a)) # remove white space from the end\n",
    "print(np.char.strip(a)) # remove leading and ending white space"
   ]
  },
  {
   "cell_type": "code",
   "execution_count": 14,
   "id": "6ce2688c-e308-471e-841b-25de1b4324ba",
   "metadata": {},
   "outputs": [
    {
     "name": "stdout",
     "output_type": "stream",
     "text": [
      "['xxx' 'bbb' 'xxx ' ' bbb  ']\n"
     ]
    }
   ],
   "source": [
    "# replace string\n",
    "\n",
    "b = ['aaa','bbb','aaa ',' bbb  ']\n",
    "print(np.char.replace(b,'a','x'))"
   ]
  },
  {
   "cell_type": "code",
   "execution_count": 15,
   "id": "a3304006-1d4f-40b5-b2ed-143a5c223884",
   "metadata": {},
   "outputs": [
    {
     "name": "stdout",
     "output_type": "stream",
     "text": [
      "['aaa' 'bbb' 'aaa' 'bbb']\n"
     ]
    }
   ],
   "source": [
    "print(np.char.replace(b,' ',''))   # removing all the white space"
   ]
  },
  {
   "cell_type": "code",
   "execution_count": 20,
   "id": "9c208baf-571b-4b83-86d1-af20db241563",
   "metadata": {},
   "outputs": [
    {
     "name": "stdout",
     "output_type": "stream",
     "text": [
      "[[ True  True]\n",
      " [False  True]\n",
      " [ True False]\n",
      " [ True  True]\n",
      " [ True False]]\n"
     ]
    }
   ],
   "source": [
    "# validation string\n",
    "data = np.array([\n",
    "    ['Alice', '25'],\n",
    "    ['Bob123', '30'],\n",
    "    ['Charlie', 'Twenty'],\n",
    "    ['Diana', '40'],\n",
    "    ['Eve', '32years']\n",
    "])\n",
    "\n",
    "name_valid = np.char.isalpha(data[:,0])\n",
    "age_valid = np.char.isdigit(data[:,1])\n",
    "result = np.column_stack((name_valid, age_valid))\n",
    "print(result)"
   ]
  },
  {
   "cell_type": "code",
   "execution_count": null,
   "id": "cb161dfb-be8f-44cc-ab63-c3be9e6f32f1",
   "metadata": {},
   "outputs": [],
   "source": []
  }
 ],
 "metadata": {
  "kernelspec": {
   "display_name": "Python 3 (ipykernel)",
   "language": "python",
   "name": "python3"
  },
  "language_info": {
   "codemirror_mode": {
    "name": "ipython",
    "version": 3
   },
   "file_extension": ".py",
   "mimetype": "text/x-python",
   "name": "python",
   "nbconvert_exporter": "python",
   "pygments_lexer": "ipython3",
   "version": "3.12.4"
  }
 },
 "nbformat": 4,
 "nbformat_minor": 5
}
